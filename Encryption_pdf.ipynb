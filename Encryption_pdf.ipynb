{
 "cells": [
  {
   "cell_type": "code",
   "execution_count": 1,
   "metadata": {},
   "outputs": [],
   "source": [
    "from qiskit import QuantumCircuit, Aer, execute\n",
    "import json\n",
    "from Crypto.Cipher import AES\n",
    "from Crypto.Util.Padding import pad, unpad\n",
    "from Crypto.Random import get_random_bytes\n",
    "\n",
    "# Generate the shared secret key using QKD with the BB84 protocol\n",
    "def generate_key():\n",
    "    # Initialize the quantum circuit\n",
    "    qc = QuantumCircuit(16,64)\n",
    "    \n",
    "    # Create a random bit string\n",
    "    key = ''\n",
    "    for i in range(16):\n",
    "        key += str(random.randint(0, 1))\n",
    "    \n",
    "    # Encode the key using BB84 protocol\n",
    "    for i in range(len(key)):\n",
    "        if key[i] == '0':\n",
    "            qc.h(i)\n",
    "        else:\n",
    "            qc.x(i)\n",
    "            qc.h(i)\n",
    "    \n",
    "    # Measure the qubits and extract the key\n",
    "    qc.measure([0, 1], [0, 1])\n",
    "    backend = Aer.get_backend('qasm_simulator')\n",
    "    counts = execute(qc, backend, shots=1).result().get_counts()\n",
    "    qkd_key = list(counts.keys())[0]\n",
    "    \n",
    "    # Return the QKD key\n",
    "    return qkd_key\n",
    "\n",
    "\n"
   ]
  },
  {
   "cell_type": "code",
   "execution_count": 5,
   "metadata": {},
   "outputs": [
    {
     "ename": "FileNotFoundError",
     "evalue": "[Errno 2] No such file or directory: 'data'",
     "output_type": "error",
     "traceback": [
      "\u001b[1;31m---------------------------------------------------------------------------\u001b[0m",
      "\u001b[1;31mFileNotFoundError\u001b[0m                         Traceback (most recent call last)",
      "Cell \u001b[1;32mIn[5], line 30\u001b[0m\n\u001b[0;32m     27\u001b[0m     \u001b[39mwith\u001b[39;00m \u001b[39mopen\u001b[39m(filename \u001b[39m+\u001b[39m \u001b[39m'\u001b[39m\u001b[39m.enc\u001b[39m\u001b[39m'\u001b[39m, \u001b[39m'\u001b[39m\u001b[39mwb\u001b[39m\u001b[39m'\u001b[39m) \u001b[39mas\u001b[39;00m file:\n\u001b[0;32m     28\u001b[0m         file\u001b[39m.\u001b[39mwrite(ciphertext)\n\u001b[1;32m---> 30\u001b[0m encrypt_pdf(\u001b[39m'\u001b[39;49m\u001b[39mdata\u001b[39;49m\u001b[39m'\u001b[39;49m, qkd_key)\n\u001b[0;32m     32\u001b[0m \u001b[39mdef\u001b[39;00m \u001b[39mdecrypt_pdf\u001b[39m(filename, qkd_key):\n\u001b[0;32m     33\u001b[0m     \u001b[39m# Convert the QKD key to a byte string\u001b[39;00m\n\u001b[0;32m     34\u001b[0m     key \u001b[39m=\u001b[39m \u001b[39mbytes\u001b[39m\u001b[39m.\u001b[39mfromhex(qkd_key)\n",
      "Cell \u001b[1;32mIn[5], line 9\u001b[0m, in \u001b[0;36mencrypt_pdf\u001b[1;34m(filename, qkd_key)\u001b[0m\n\u001b[0;32m      7\u001b[0m \u001b[39mdef\u001b[39;00m \u001b[39mencrypt_pdf\u001b[39m(filename, qkd_key):\n\u001b[0;32m      8\u001b[0m     \u001b[39m# Open the PDF file and read the contents\u001b[39;00m\n\u001b[1;32m----> 9\u001b[0m     \u001b[39mwith\u001b[39;00m \u001b[39mopen\u001b[39;49m(filename, \u001b[39m'\u001b[39;49m\u001b[39mrb\u001b[39;49m\u001b[39m'\u001b[39;49m) \u001b[39mas\u001b[39;00m file:\n\u001b[0;32m     10\u001b[0m         pdf_reader \u001b[39m=\u001b[39m PyPDF2\u001b[39m.\u001b[39mPdfFileReader(file)\n\u001b[0;32m     11\u001b[0m         pdf_writer \u001b[39m=\u001b[39m PyPDF2\u001b[39m.\u001b[39mPdfFileWriter()\n",
      "File \u001b[1;32m~\\AppData\\Roaming\\Python\\Python311\\site-packages\\IPython\\core\\interactiveshell.py:282\u001b[0m, in \u001b[0;36m_modified_open\u001b[1;34m(file, *args, **kwargs)\u001b[0m\n\u001b[0;32m    275\u001b[0m \u001b[39mif\u001b[39;00m file \u001b[39min\u001b[39;00m {\u001b[39m0\u001b[39m, \u001b[39m1\u001b[39m, \u001b[39m2\u001b[39m}:\n\u001b[0;32m    276\u001b[0m     \u001b[39mraise\u001b[39;00m \u001b[39mValueError\u001b[39;00m(\n\u001b[0;32m    277\u001b[0m         \u001b[39mf\u001b[39m\u001b[39m\"\u001b[39m\u001b[39mIPython won\u001b[39m\u001b[39m'\u001b[39m\u001b[39mt let you open fd=\u001b[39m\u001b[39m{\u001b[39;00mfile\u001b[39m}\u001b[39;00m\u001b[39m by default \u001b[39m\u001b[39m\"\u001b[39m\n\u001b[0;32m    278\u001b[0m         \u001b[39m\"\u001b[39m\u001b[39mas it is likely to crash IPython. If you know what you are doing, \u001b[39m\u001b[39m\"\u001b[39m\n\u001b[0;32m    279\u001b[0m         \u001b[39m\"\u001b[39m\u001b[39myou can use builtins\u001b[39m\u001b[39m'\u001b[39m\u001b[39m open.\u001b[39m\u001b[39m\"\u001b[39m\n\u001b[0;32m    280\u001b[0m     )\n\u001b[1;32m--> 282\u001b[0m \u001b[39mreturn\u001b[39;00m io_open(file, \u001b[39m*\u001b[39;49margs, \u001b[39m*\u001b[39;49m\u001b[39m*\u001b[39;49mkwargs)\n",
      "\u001b[1;31mFileNotFoundError\u001b[0m: [Errno 2] No such file or directory: 'data'"
     ]
    }
   ],
   "source": [
    "import random\n",
    "import os\n",
    "import PyPDF2\n",
    "\n",
    "qkd_key=generate_key()\n",
    "\n",
    "def encrypt_pdf(filename, qkd_key):\n",
    "    # Open the PDF file and read the contents\n",
    "    with open(filename, 'rb') as file:\n",
    "        pdf_reader = PyPDF2.PdfFileReader(file)\n",
    "        pdf_writer = PyPDF2.PdfFileWriter()\n",
    "        for page_num in range(pdf_reader.getNumPages()):\n",
    "            pdf_writer.addPage(pdf_reader.getPage(page_num))\n",
    "        plaintext = pdf_writer.writeToString()\n",
    "    \n",
    "    # Convert the QKD key to a byte string\n",
    "    key = bytes.fromhex(qkd_key)\n",
    "    \n",
    "    # Generate a random initialization vector (IV) for AES\n",
    "    iv = get_random_bytes(AES.block_size)\n",
    "    \n",
    "    # Encrypt the data using AES\n",
    "    cipher = AES.new(key, AES.MODE_CBC, iv)\n",
    "    ciphertext = iv + cipher.encrypt(pad(plaintext, AES.block_size))\n",
    "    \n",
    "    # Write the encrypted data to a new file\n",
    "    with open(filename + '.enc', 'wb') as file:\n",
    "        file.write(ciphertext)\n",
    "\n",
    "encrypt_pdf('data', qkd_key)\n",
    "\n",
    "def decrypt_pdf(filename, qkd_key):\n",
    "    # Convert the QKD key to a byte string\n",
    "    key = bytes.fromhex(qkd_key)\n",
    "    \n",
    "    # Open the encrypted file and read the contents\n",
    "    with open(filename, 'rb') as file:\n",
    "        ciphertext = file.read()\n",
    "    \n",
    "    # Extract the initialization vector (IV) from the ciphertext\n",
    "    iv = ciphertext[:AES.block_size]\n",
    "    \n",
    "    # Decrypt the data using AES\n",
    "    cipher = AES.new(key, AES.MODE_CBC, iv)\n",
    "    plaintext = cipher.decrypt(ciphertext[AES.block_size:])\n",
    "    \n",
    "    # Remove padding and write the decrypted data to a new file\n",
    "    with open('dec_' + filename[:-4] + '.pdf', 'wb') as file:\n",
    "        file.write(plaintext)\n",
    "\n",
    "decrypt_pdf('dec_data', qkd_key)\n"
   ]
  },
  {
   "cell_type": "code",
   "execution_count": null,
   "metadata": {},
   "outputs": [],
   "source": []
  }
 ],
 "metadata": {
  "kernelspec": {
   "display_name": "qiskit-stable",
   "language": "python",
   "name": "python3"
  },
  "language_info": {
   "codemirror_mode": {
    "name": "ipython",
    "version": 3
   },
   "file_extension": ".py",
   "mimetype": "text/x-python",
   "name": "python",
   "nbconvert_exporter": "python",
   "pygments_lexer": "ipython3",
   "version": "3.11.1"
  },
  "orig_nbformat": 4
 },
 "nbformat": 4,
 "nbformat_minor": 2
}
